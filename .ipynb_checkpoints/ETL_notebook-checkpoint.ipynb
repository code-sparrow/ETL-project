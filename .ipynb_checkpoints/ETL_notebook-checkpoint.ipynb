{
 "cells": [
  {
   "cell_type": "markdown",
   "metadata": {},
   "source": [
    "### Imports"
   ]
  },
  {
   "cell_type": "code",
   "execution_count": 1,
   "metadata": {},
   "outputs": [],
   "source": [
    "import pandas as pd\n",
    "import psycopg2\n",
    "from sqlalchemy import create_engine"
   ]
  },
  {
   "cell_type": "markdown",
   "metadata": {},
   "source": [
    "# Extract\n",
    "\n",
    "---"
   ]
  },
  {
   "cell_type": "markdown",
   "metadata": {},
   "source": [
    "### Store NYT CSV into DataFrame"
   ]
  },
  {
   "cell_type": "code",
   "execution_count": 2,
   "metadata": {},
   "outputs": [
    {
     "data": {
      "text/html": [
       "<div>\n",
       "<style scoped>\n",
       "    .dataframe tbody tr th:only-of-type {\n",
       "        vertical-align: middle;\n",
       "    }\n",
       "\n",
       "    .dataframe tbody tr th {\n",
       "        vertical-align: top;\n",
       "    }\n",
       "\n",
       "    .dataframe thead th {\n",
       "        text-align: right;\n",
       "    }\n",
       "</style>\n",
       "<table border=\"1\" class=\"dataframe\">\n",
       "  <thead>\n",
       "    <tr style=\"text-align: right;\">\n",
       "      <th></th>\n",
       "      <th>publisher</th>\n",
       "      <th>title</th>\n",
       "      <th>author</th>\n",
       "      <th>primary_isbn10</th>\n",
       "      <th>weeks_on_list</th>\n",
       "    </tr>\n",
       "  </thead>\n",
       "  <tbody>\n",
       "    <tr>\n",
       "      <th>0</th>\n",
       "      <td>Sapphire Star Publishing</td>\n",
       "      <td>LOST TO YOU</td>\n",
       "      <td>A L Jackson</td>\n",
       "      <td>1938404505</td>\n",
       "      <td>0</td>\n",
       "    </tr>\n",
       "    <tr>\n",
       "      <th>1</th>\n",
       "      <td>Random House</td>\n",
       "      <td>CONVICTION</td>\n",
       "      <td>Aaron Allston</td>\n",
       "      <td>345509102</td>\n",
       "      <td>1</td>\n",
       "    </tr>\n",
       "    <tr>\n",
       "      <th>2</th>\n",
       "      <td>Abbi Glines</td>\n",
       "      <td>FOREVER TOO FAR</td>\n",
       "      <td>Abbi Glines</td>\n",
       "      <td>988301334</td>\n",
       "      <td>2</td>\n",
       "    </tr>\n",
       "    <tr>\n",
       "      <th>3</th>\n",
       "      <td>Atria</td>\n",
       "      <td>RUSH TOO FAR</td>\n",
       "      <td>Abbi Glines</td>\n",
       "      <td>1476775958</td>\n",
       "      <td>1</td>\n",
       "    </tr>\n",
       "    <tr>\n",
       "      <th>4</th>\n",
       "      <td>Atria</td>\n",
       "      <td>SIMPLE PERFECTION</td>\n",
       "      <td>Abbi Glines</td>\n",
       "      <td>1476756538</td>\n",
       "      <td>1</td>\n",
       "    </tr>\n",
       "  </tbody>\n",
       "</table>\n",
       "</div>"
      ],
      "text/plain": [
       "                  publisher              title         author primary_isbn10  \\\n",
       "0  Sapphire Star Publishing        LOST TO YOU    A L Jackson     1938404505   \n",
       "1              Random House         CONVICTION  Aaron Allston      345509102   \n",
       "2               Abbi Glines    FOREVER TOO FAR    Abbi Glines      988301334   \n",
       "3                     Atria       RUSH TOO FAR    Abbi Glines     1476775958   \n",
       "4                     Atria  SIMPLE PERFECTION    Abbi Glines     1476756538   \n",
       "\n",
       "   weeks_on_list  \n",
       "0              0  \n",
       "1              1  \n",
       "2              2  \n",
       "3              1  \n",
       "4              1  "
      ]
     },
     "execution_count": 2,
     "metadata": {},
     "output_type": "execute_result"
    }
   ],
   "source": [
    "# Store CSV into DataFrame\n",
    "csv_file =\"./Resources/nytbooks_data.csv\"\n",
    "nytbooks_data_df = pd.read_csv(csv_file)\n",
    "nytbooks_data_df.head()"
   ]
  },
  {
   "cell_type": "code",
   "execution_count": 3,
   "metadata": {},
   "outputs": [
    {
     "name": "stdout",
     "output_type": "stream",
     "text": [
      "<class 'pandas.core.frame.DataFrame'>\n",
      "RangeIndex: 1316 entries, 0 to 1315\n",
      "Data columns (total 5 columns):\n",
      "publisher         1316 non-null object\n",
      "title             1316 non-null object\n",
      "author            1316 non-null object\n",
      "primary_isbn10    1316 non-null object\n",
      "weeks_on_list     1316 non-null int64\n",
      "dtypes: int64(1), object(4)\n",
      "memory usage: 51.5+ KB\n"
     ]
    }
   ],
   "source": [
    "# Getting summary of initial dataframe\n",
    "nytbooks_data_df.info()"
   ]
  },
  {
   "cell_type": "code",
   "execution_count": 4,
   "metadata": {},
   "outputs": [
    {
     "data": {
      "text/plain": [
       "52"
      ]
     },
     "execution_count": 4,
     "metadata": {},
     "output_type": "execute_result"
    }
   ],
   "source": [
    "# Checking max title length (just for setting up table schema varchar(?))\n",
    "x=[]\n",
    "for i in nytbooks_data_df.title:\n",
    "    x.append(len(i))\n",
    "max(x)"
   ]
  },
  {
   "cell_type": "markdown",
   "metadata": {},
   "source": [
    "### Store GoodReads CSV into DataFrame"
   ]
  },
  {
   "cell_type": "code",
   "execution_count": 5,
   "metadata": {},
   "outputs": [
    {
     "data": {
      "text/html": [
       "<div>\n",
       "<style scoped>\n",
       "    .dataframe tbody tr th:only-of-type {\n",
       "        vertical-align: middle;\n",
       "    }\n",
       "\n",
       "    .dataframe tbody tr th {\n",
       "        vertical-align: top;\n",
       "    }\n",
       "\n",
       "    .dataframe thead th {\n",
       "        text-align: right;\n",
       "    }\n",
       "</style>\n",
       "<table border=\"1\" class=\"dataframe\">\n",
       "  <thead>\n",
       "    <tr style=\"text-align: right;\">\n",
       "      <th></th>\n",
       "      <th>bookID</th>\n",
       "      <th>title</th>\n",
       "      <th>authors</th>\n",
       "      <th>average_rating</th>\n",
       "      <th>primary_isbn10</th>\n",
       "      <th># num_pages</th>\n",
       "      <th>ratings_count</th>\n",
       "      <th>text_reviews_count</th>\n",
       "      <th>Unnamed: 8</th>\n",
       "    </tr>\n",
       "  </thead>\n",
       "  <tbody>\n",
       "    <tr>\n",
       "      <th>0</th>\n",
       "      <td>1</td>\n",
       "      <td>Harry Potter and the Half-Blood Prince (Harry ...</td>\n",
       "      <td>J.K. Rowling-Mary GrandPré</td>\n",
       "      <td>4.56</td>\n",
       "      <td>439785960</td>\n",
       "      <td>652</td>\n",
       "      <td>1944099</td>\n",
       "      <td>26249</td>\n",
       "      <td>NaN</td>\n",
       "    </tr>\n",
       "    <tr>\n",
       "      <th>1</th>\n",
       "      <td>2</td>\n",
       "      <td>Harry Potter and the Order of the Phoenix (Har...</td>\n",
       "      <td>J.K. Rowling-Mary GrandPré</td>\n",
       "      <td>4.49</td>\n",
       "      <td>439358078</td>\n",
       "      <td>870</td>\n",
       "      <td>1996446</td>\n",
       "      <td>27613</td>\n",
       "      <td>NaN</td>\n",
       "    </tr>\n",
       "    <tr>\n",
       "      <th>2</th>\n",
       "      <td>3</td>\n",
       "      <td>Harry Potter and the Sorcerer's Stone (Harry P...</td>\n",
       "      <td>J.K. Rowling-Mary GrandPré</td>\n",
       "      <td>4.47</td>\n",
       "      <td>439554934</td>\n",
       "      <td>320</td>\n",
       "      <td>5629932</td>\n",
       "      <td>70390</td>\n",
       "      <td>NaN</td>\n",
       "    </tr>\n",
       "    <tr>\n",
       "      <th>3</th>\n",
       "      <td>4</td>\n",
       "      <td>Harry Potter and the Chamber of Secrets (Harry...</td>\n",
       "      <td>J.K. Rowling</td>\n",
       "      <td>4.41</td>\n",
       "      <td>439554896</td>\n",
       "      <td>352</td>\n",
       "      <td>6267</td>\n",
       "      <td>272</td>\n",
       "      <td>NaN</td>\n",
       "    </tr>\n",
       "    <tr>\n",
       "      <th>4</th>\n",
       "      <td>5</td>\n",
       "      <td>Harry Potter and the Prisoner of Azkaban (Harr...</td>\n",
       "      <td>J.K. Rowling-Mary GrandPré</td>\n",
       "      <td>4.55</td>\n",
       "      <td>043965548X</td>\n",
       "      <td>435</td>\n",
       "      <td>2149872</td>\n",
       "      <td>33964</td>\n",
       "      <td>NaN</td>\n",
       "    </tr>\n",
       "  </tbody>\n",
       "</table>\n",
       "</div>"
      ],
      "text/plain": [
       "   bookID                                              title  \\\n",
       "0       1  Harry Potter and the Half-Blood Prince (Harry ...   \n",
       "1       2  Harry Potter and the Order of the Phoenix (Har...   \n",
       "2       3  Harry Potter and the Sorcerer's Stone (Harry P...   \n",
       "3       4  Harry Potter and the Chamber of Secrets (Harry...   \n",
       "4       5  Harry Potter and the Prisoner of Azkaban (Harr...   \n",
       "\n",
       "                      authors average_rating primary_isbn10 # num_pages  \\\n",
       "0  J.K. Rowling-Mary GrandPré           4.56      439785960         652   \n",
       "1  J.K. Rowling-Mary GrandPré           4.49      439358078         870   \n",
       "2  J.K. Rowling-Mary GrandPré           4.47      439554934         320   \n",
       "3                J.K. Rowling           4.41      439554896         352   \n",
       "4  J.K. Rowling-Mary GrandPré           4.55     043965548X         435   \n",
       "\n",
       "   ratings_count  text_reviews_count  Unnamed: 8  \n",
       "0        1944099               26249         NaN  \n",
       "1        1996446               27613         NaN  \n",
       "2        5629932               70390         NaN  \n",
       "3           6267                 272         NaN  \n",
       "4        2149872               33964         NaN  "
      ]
     },
     "execution_count": 5,
     "metadata": {},
     "output_type": "execute_result"
    }
   ],
   "source": [
    "#Store second data into a DataFrame\n",
    "csv_file = \"./Resources/goodreads_data.csv\"\n",
    "goodreads_data_df = pd.read_csv(csv_file)\n",
    "goodreads_data_df.head()"
   ]
  },
  {
   "cell_type": "code",
   "execution_count": 6,
   "metadata": {},
   "outputs": [
    {
     "name": "stdout",
     "output_type": "stream",
     "text": [
      "<class 'pandas.core.frame.DataFrame'>\n",
      "RangeIndex: 13719 entries, 0 to 13718\n",
      "Data columns (total 9 columns):\n",
      "bookID                13719 non-null int64\n",
      "title                 13719 non-null object\n",
      "authors               13719 non-null object\n",
      "average_rating        13719 non-null object\n",
      "primary_isbn10        13719 non-null object\n",
      "# num_pages           13719 non-null object\n",
      "ratings_count         13719 non-null int64\n",
      "text_reviews_count    13719 non-null int64\n",
      "Unnamed: 8            5 non-null float64\n",
      "dtypes: float64(1), int64(3), object(5)\n",
      "memory usage: 964.7+ KB\n"
     ]
    }
   ],
   "source": [
    "# Getting summary of initial dataframe\n",
    "goodreads_data_df.info()"
   ]
  },
  {
   "cell_type": "code",
   "execution_count": 7,
   "metadata": {},
   "outputs": [
    {
     "data": {
      "text/plain": [
       "772"
      ]
     },
     "execution_count": 7,
     "metadata": {},
     "output_type": "execute_result"
    }
   ],
   "source": [
    "# Checking max title and author lengths (just for setting up table schema varchar(?))\n",
    "x=[]\n",
    "for i in goodreads_data_df.authors:\n",
    "    x.append(len(i))\n",
    "max(x)"
   ]
  },
  {
   "cell_type": "markdown",
   "metadata": {},
   "source": [
    "# Transform\n",
    "\n",
    "---"
   ]
  },
  {
   "cell_type": "markdown",
   "metadata": {},
   "source": [
    "### Create new NYT dataframe with select columns"
   ]
  },
  {
   "cell_type": "code",
   "execution_count": 8,
   "metadata": {},
   "outputs": [
    {
     "data": {
      "text/html": [
       "<div>\n",
       "<style scoped>\n",
       "    .dataframe tbody tr th:only-of-type {\n",
       "        vertical-align: middle;\n",
       "    }\n",
       "\n",
       "    .dataframe tbody tr th {\n",
       "        vertical-align: top;\n",
       "    }\n",
       "\n",
       "    .dataframe thead th {\n",
       "        text-align: right;\n",
       "    }\n",
       "</style>\n",
       "<table border=\"1\" class=\"dataframe\">\n",
       "  <thead>\n",
       "    <tr style=\"text-align: right;\">\n",
       "      <th></th>\n",
       "      <th>publisher</th>\n",
       "      <th>title</th>\n",
       "      <th>author</th>\n",
       "      <th>primary_isbn10</th>\n",
       "      <th>weeks_on_list</th>\n",
       "    </tr>\n",
       "  </thead>\n",
       "  <tbody>\n",
       "    <tr>\n",
       "      <th>0</th>\n",
       "      <td>Sapphire Star Publishing</td>\n",
       "      <td>LOST TO YOU</td>\n",
       "      <td>A L Jackson</td>\n",
       "      <td>1938404505</td>\n",
       "      <td>0</td>\n",
       "    </tr>\n",
       "    <tr>\n",
       "      <th>1</th>\n",
       "      <td>Random House</td>\n",
       "      <td>CONVICTION</td>\n",
       "      <td>Aaron Allston</td>\n",
       "      <td>345509102</td>\n",
       "      <td>1</td>\n",
       "    </tr>\n",
       "    <tr>\n",
       "      <th>2</th>\n",
       "      <td>Abbi Glines</td>\n",
       "      <td>FOREVER TOO FAR</td>\n",
       "      <td>Abbi Glines</td>\n",
       "      <td>988301334</td>\n",
       "      <td>2</td>\n",
       "    </tr>\n",
       "    <tr>\n",
       "      <th>3</th>\n",
       "      <td>Atria</td>\n",
       "      <td>RUSH TOO FAR</td>\n",
       "      <td>Abbi Glines</td>\n",
       "      <td>1476775958</td>\n",
       "      <td>1</td>\n",
       "    </tr>\n",
       "    <tr>\n",
       "      <th>4</th>\n",
       "      <td>Atria</td>\n",
       "      <td>SIMPLE PERFECTION</td>\n",
       "      <td>Abbi Glines</td>\n",
       "      <td>1476756538</td>\n",
       "      <td>1</td>\n",
       "    </tr>\n",
       "  </tbody>\n",
       "</table>\n",
       "</div>"
      ],
      "text/plain": [
       "                  publisher              title         author primary_isbn10  \\\n",
       "0  Sapphire Star Publishing        LOST TO YOU    A L Jackson     1938404505   \n",
       "1              Random House         CONVICTION  Aaron Allston      345509102   \n",
       "2               Abbi Glines    FOREVER TOO FAR    Abbi Glines      988301334   \n",
       "3                     Atria       RUSH TOO FAR    Abbi Glines     1476775958   \n",
       "4                     Atria  SIMPLE PERFECTION    Abbi Glines     1476756538   \n",
       "\n",
       "   weeks_on_list  \n",
       "0              0  \n",
       "1              1  \n",
       "2              2  \n",
       "3              1  \n",
       "4              1  "
      ]
     },
     "execution_count": 8,
     "metadata": {},
     "output_type": "execute_result"
    }
   ],
   "source": [
    "# all columns could be useful\n",
    "new_nytbooks_data_df = nytbooks_data_df.copy()\n",
    "new_nytbooks_data_df.head()"
   ]
  },
  {
   "cell_type": "markdown",
   "metadata": {},
   "source": [
    "### Create new goodreads dataframe with select columns"
   ]
  },
  {
   "cell_type": "code",
   "execution_count": 9,
   "metadata": {},
   "outputs": [
    {
     "data": {
      "text/html": [
       "<div>\n",
       "<style scoped>\n",
       "    .dataframe tbody tr th:only-of-type {\n",
       "        vertical-align: middle;\n",
       "    }\n",
       "\n",
       "    .dataframe tbody tr th {\n",
       "        vertical-align: top;\n",
       "    }\n",
       "\n",
       "    .dataframe thead th {\n",
       "        text-align: right;\n",
       "    }\n",
       "</style>\n",
       "<table border=\"1\" class=\"dataframe\">\n",
       "  <thead>\n",
       "    <tr style=\"text-align: right;\">\n",
       "      <th></th>\n",
       "      <th>bookID</th>\n",
       "      <th>title</th>\n",
       "      <th>authors</th>\n",
       "      <th>average_rating</th>\n",
       "      <th>primary_isbn10</th>\n",
       "      <th># num_pages</th>\n",
       "      <th>ratings_count</th>\n",
       "      <th>text_reviews_count</th>\n",
       "      <th>Unnamed: 8</th>\n",
       "    </tr>\n",
       "  </thead>\n",
       "  <tbody>\n",
       "    <tr>\n",
       "      <th>4010</th>\n",
       "      <td>12224</td>\n",
       "      <td>Streetcar Suburbs: The Process of Growth in Bo...</td>\n",
       "      <td>Sam Bass Warner</td>\n",
       "      <td>Jr.-Sam B. Warner</td>\n",
       "      <td>3.57</td>\n",
       "      <td>en-US</td>\n",
       "      <td>236</td>\n",
       "      <td>55</td>\n",
       "      <td>6.0</td>\n",
       "    </tr>\n",
       "    <tr>\n",
       "      <th>5686</th>\n",
       "      <td>16914</td>\n",
       "      <td>The Tolkien Fan's Medieval Reader</td>\n",
       "      <td>David E. Smith (Turgon of TheOneRing.net</td>\n",
       "      <td>one of the founding members of this Tolkien w...</td>\n",
       "      <td>3.6</td>\n",
       "      <td>eng</td>\n",
       "      <td>400</td>\n",
       "      <td>25</td>\n",
       "      <td>4.0</td>\n",
       "    </tr>\n",
       "    <tr>\n",
       "      <th>7054</th>\n",
       "      <td>22128</td>\n",
       "      <td>Patriots (The Coming Collapse)</td>\n",
       "      <td>James Wesley</td>\n",
       "      <td>Rawles</td>\n",
       "      <td>3.63</td>\n",
       "      <td>eng</td>\n",
       "      <td>342</td>\n",
       "      <td>38</td>\n",
       "      <td>4.0</td>\n",
       "    </tr>\n",
       "    <tr>\n",
       "      <th>10599</th>\n",
       "      <td>34523</td>\n",
       "      <td>The Flying Sorcerers: More Comic Tales of Fantasy</td>\n",
       "      <td>Peter Haining-Roald Dahl-Terry Pratchett-Angel...</td>\n",
       "      <td>Jr.-C.S. Lewis-P.G. Wodehouse-Michael Moorcoc...</td>\n",
       "      <td>3.98</td>\n",
       "      <td>eng</td>\n",
       "      <td>383</td>\n",
       "      <td>2197</td>\n",
       "      <td>17.0</td>\n",
       "    </tr>\n",
       "    <tr>\n",
       "      <th>10666</th>\n",
       "      <td>34889</td>\n",
       "      <td>Brown's Star Atlas: Showing All The Bright Sta...</td>\n",
       "      <td>Brown</td>\n",
       "      <td>Son &amp; Ferguson</td>\n",
       "      <td>0</td>\n",
       "      <td>eng</td>\n",
       "      <td>49</td>\n",
       "      <td>0</td>\n",
       "      <td>0.0</td>\n",
       "    </tr>\n",
       "  </tbody>\n",
       "</table>\n",
       "</div>"
      ],
      "text/plain": [
       "       bookID                                              title  \\\n",
       "4010    12224  Streetcar Suburbs: The Process of Growth in Bo...   \n",
       "5686    16914                  The Tolkien Fan's Medieval Reader   \n",
       "7054    22128                     Patriots (The Coming Collapse)   \n",
       "10599   34523  The Flying Sorcerers: More Comic Tales of Fantasy   \n",
       "10666   34889  Brown's Star Atlas: Showing All The Bright Sta...   \n",
       "\n",
       "                                                 authors  \\\n",
       "4010                                     Sam Bass Warner   \n",
       "5686            David E. Smith (Turgon of TheOneRing.net   \n",
       "7054                                        James Wesley   \n",
       "10599  Peter Haining-Roald Dahl-Terry Pratchett-Angel...   \n",
       "10666                                              Brown   \n",
       "\n",
       "                                          average_rating primary_isbn10  \\\n",
       "4010                                   Jr.-Sam B. Warner           3.57   \n",
       "5686    one of the founding members of this Tolkien w...            3.6   \n",
       "7054                                              Rawles           3.63   \n",
       "10599   Jr.-C.S. Lewis-P.G. Wodehouse-Michael Moorcoc...           3.98   \n",
       "10666                                     Son & Ferguson              0   \n",
       "\n",
       "      # num_pages  ratings_count  text_reviews_count  Unnamed: 8  \n",
       "4010        en-US            236                  55         6.0  \n",
       "5686          eng            400                  25         4.0  \n",
       "7054          eng            342                  38         4.0  \n",
       "10599         eng            383                2197        17.0  \n",
       "10666         eng             49                   0         0.0  "
      ]
     },
     "execution_count": 9,
     "metadata": {},
     "output_type": "execute_result"
    }
   ],
   "source": [
    "#issues loading to sql, types are wrong, certain columns are offset\n",
    "# which created this \"Unnamed: 8\" column\n",
    "goodreads_data_df[goodreads_data_df[\"Unnamed: 8\"].notnull()]"
   ]
  },
  {
   "cell_type": "code",
   "execution_count": 10,
   "metadata": {},
   "outputs": [
    {
     "data": {
      "text/html": [
       "<div>\n",
       "<style scoped>\n",
       "    .dataframe tbody tr th:only-of-type {\n",
       "        vertical-align: middle;\n",
       "    }\n",
       "\n",
       "    .dataframe tbody tr th {\n",
       "        vertical-align: top;\n",
       "    }\n",
       "\n",
       "    .dataframe thead th {\n",
       "        text-align: right;\n",
       "    }\n",
       "</style>\n",
       "<table border=\"1\" class=\"dataframe\">\n",
       "  <thead>\n",
       "    <tr style=\"text-align: right;\">\n",
       "      <th></th>\n",
       "      <th>title</th>\n",
       "      <th>authors</th>\n",
       "      <th>average_rating</th>\n",
       "      <th>ratings_count</th>\n",
       "      <th>primary_isbn10</th>\n",
       "    </tr>\n",
       "  </thead>\n",
       "  <tbody>\n",
       "    <tr>\n",
       "      <th>0</th>\n",
       "      <td>Harry Potter and the Half-Blood Prince (Harry ...</td>\n",
       "      <td>J.K. Rowling-Mary GrandPré</td>\n",
       "      <td>4.56</td>\n",
       "      <td>1944099</td>\n",
       "      <td>439785960</td>\n",
       "    </tr>\n",
       "    <tr>\n",
       "      <th>1</th>\n",
       "      <td>Harry Potter and the Order of the Phoenix (Har...</td>\n",
       "      <td>J.K. Rowling-Mary GrandPré</td>\n",
       "      <td>4.49</td>\n",
       "      <td>1996446</td>\n",
       "      <td>439358078</td>\n",
       "    </tr>\n",
       "    <tr>\n",
       "      <th>2</th>\n",
       "      <td>Harry Potter and the Sorcerer's Stone (Harry P...</td>\n",
       "      <td>J.K. Rowling-Mary GrandPré</td>\n",
       "      <td>4.47</td>\n",
       "      <td>5629932</td>\n",
       "      <td>439554934</td>\n",
       "    </tr>\n",
       "    <tr>\n",
       "      <th>3</th>\n",
       "      <td>Harry Potter and the Chamber of Secrets (Harry...</td>\n",
       "      <td>J.K. Rowling</td>\n",
       "      <td>4.41</td>\n",
       "      <td>6267</td>\n",
       "      <td>439554896</td>\n",
       "    </tr>\n",
       "    <tr>\n",
       "      <th>4</th>\n",
       "      <td>Harry Potter and the Prisoner of Azkaban (Harr...</td>\n",
       "      <td>J.K. Rowling-Mary GrandPré</td>\n",
       "      <td>4.55</td>\n",
       "      <td>2149872</td>\n",
       "      <td>043965548X</td>\n",
       "    </tr>\n",
       "  </tbody>\n",
       "</table>\n",
       "</div>"
      ],
      "text/plain": [
       "                                               title  \\\n",
       "0  Harry Potter and the Half-Blood Prince (Harry ...   \n",
       "1  Harry Potter and the Order of the Phoenix (Har...   \n",
       "2  Harry Potter and the Sorcerer's Stone (Harry P...   \n",
       "3  Harry Potter and the Chamber of Secrets (Harry...   \n",
       "4  Harry Potter and the Prisoner of Azkaban (Harr...   \n",
       "\n",
       "                      authors average_rating  ratings_count primary_isbn10  \n",
       "0  J.K. Rowling-Mary GrandPré           4.56        1944099      439785960  \n",
       "1  J.K. Rowling-Mary GrandPré           4.49        1996446      439358078  \n",
       "2  J.K. Rowling-Mary GrandPré           4.47        5629932      439554934  \n",
       "3                J.K. Rowling           4.41           6267      439554896  \n",
       "4  J.K. Rowling-Mary GrandPré           4.55        2149872     043965548X  "
      ]
     },
     "execution_count": 10,
     "metadata": {},
     "output_type": "execute_result"
    }
   ],
   "source": [
    "# not sure how to fix reading of csv, so will just delete these columns for now\n",
    "# ...there are only 5\n",
    "\n",
    "goodreads_data_df = goodreads_data_df[~pd.notnull(goodreads_data_df[\"Unnamed: 8\"])]\n",
    "\n",
    "# Clean DataFrame further, selecting columns\n",
    "new_goodreads_data_df = goodreads_data_df[[\"title\", \"authors\", \"average_rating\", \"ratings_count\", \"primary_isbn10\"]].copy()\n",
    "new_goodreads_data_df.head()"
   ]
  },
  {
   "cell_type": "code",
   "execution_count": 11,
   "metadata": {},
   "outputs": [
    {
     "name": "stdout",
     "output_type": "stream",
     "text": [
      "<class 'pandas.core.frame.DataFrame'>\n",
      "Int64Index: 13714 entries, 0 to 13718\n",
      "Data columns (total 5 columns):\n",
      "title             13714 non-null object\n",
      "authors           13714 non-null object\n",
      "average_rating    13714 non-null object\n",
      "ratings_count     13714 non-null int64\n",
      "primary_isbn10    13714 non-null object\n",
      "dtypes: int64(1), object(4)\n",
      "memory usage: 642.8+ KB\n"
     ]
    }
   ],
   "source": [
    "#double check new good reads \n",
    "new_goodreads_data_df.info()\n",
    "# looks good, 5 rows were dropped as expected"
   ]
  },
  {
   "cell_type": "markdown",
   "metadata": {},
   "source": [
    "### Additional issues/transformation"
   ]
  },
  {
   "cell_type": "code",
   "execution_count": 12,
   "metadata": {},
   "outputs": [
    {
     "data": {
      "text/html": [
       "<div>\n",
       "<style scoped>\n",
       "    .dataframe tbody tr th:only-of-type {\n",
       "        vertical-align: middle;\n",
       "    }\n",
       "\n",
       "    .dataframe tbody tr th {\n",
       "        vertical-align: top;\n",
       "    }\n",
       "\n",
       "    .dataframe thead th {\n",
       "        text-align: right;\n",
       "    }\n",
       "</style>\n",
       "<table border=\"1\" class=\"dataframe\">\n",
       "  <thead>\n",
       "    <tr style=\"text-align: right;\">\n",
       "      <th></th>\n",
       "      <th>title_x</th>\n",
       "      <th>authors</th>\n",
       "      <th>average_rating</th>\n",
       "      <th>ratings_count</th>\n",
       "      <th>primary_isbn10</th>\n",
       "      <th>publisher</th>\n",
       "      <th>title_y</th>\n",
       "      <th>author</th>\n",
       "      <th>weeks_on_list</th>\n",
       "    </tr>\n",
       "  </thead>\n",
       "  <tbody>\n",
       "  </tbody>\n",
       "</table>\n",
       "</div>"
      ],
      "text/plain": [
       "Empty DataFrame\n",
       "Columns: [title_x, authors, average_rating, ratings_count, primary_isbn10, publisher, title_y, author, weeks_on_list]\n",
       "Index: []"
      ]
     },
     "execution_count": 12,
     "metadata": {},
     "output_type": "execute_result"
    }
   ],
   "source": [
    "# wanted to use isbn10 as a relationship key between the two tables\n",
    "# but psycopg2 was having key constraint errors and failing to upload the data to the local DB\n",
    "# A pandas merge shows there are actually no matching isbn's between the two dataframes\n",
    "mergedCheck = pd.merge(new_goodreads_data_df, new_nytbooks_data_df, on=['primary_isbn10'], how='inner')\n",
    "mergedCheck.head()\n",
    "# primary / foreign key constraint will be removed in postgres"
   ]
  },
  {
   "cell_type": "code",
   "execution_count": 13,
   "metadata": {},
   "outputs": [
    {
     "data": {
      "text/html": [
       "<div>\n",
       "<style scoped>\n",
       "    .dataframe tbody tr th:only-of-type {\n",
       "        vertical-align: middle;\n",
       "    }\n",
       "\n",
       "    .dataframe tbody tr th {\n",
       "        vertical-align: top;\n",
       "    }\n",
       "\n",
       "    .dataframe thead th {\n",
       "        text-align: right;\n",
       "    }\n",
       "</style>\n",
       "<table border=\"1\" class=\"dataframe\">\n",
       "  <thead>\n",
       "    <tr style=\"text-align: right;\">\n",
       "      <th></th>\n",
       "      <th>title</th>\n",
       "      <th>authors</th>\n",
       "      <th>average_rating</th>\n",
       "      <th>ratings_count</th>\n",
       "      <th>primary_isbn10_x</th>\n",
       "      <th>publisher</th>\n",
       "      <th>author</th>\n",
       "      <th>primary_isbn10_y</th>\n",
       "      <th>weeks_on_list</th>\n",
       "    </tr>\n",
       "  </thead>\n",
       "  <tbody>\n",
       "    <tr>\n",
       "      <th>0</th>\n",
       "      <td>the alchemist</td>\n",
       "      <td>Paulo Coelho-Alan R. Clarke-James Noel Smith</td>\n",
       "      <td>3.85</td>\n",
       "      <td>814</td>\n",
       "      <td>60887966</td>\n",
       "      <td>HarperCollins</td>\n",
       "      <td>Paulo Coelho</td>\n",
       "      <td>62416219</td>\n",
       "      <td>6</td>\n",
       "    </tr>\n",
       "    <tr>\n",
       "      <th>1</th>\n",
       "      <td>the alchemist</td>\n",
       "      <td>Paulo Coelho-Alan R. Clarke-Özdemir İnce</td>\n",
       "      <td>3.85</td>\n",
       "      <td>1592632</td>\n",
       "      <td>61122416</td>\n",
       "      <td>HarperCollins</td>\n",
       "      <td>Paulo Coelho</td>\n",
       "      <td>62416219</td>\n",
       "      <td>6</td>\n",
       "    </tr>\n",
       "    <tr>\n",
       "      <th>2</th>\n",
       "      <td>life of pi</td>\n",
       "      <td>Yann Martel</td>\n",
       "      <td>3.9</td>\n",
       "      <td>4242</td>\n",
       "      <td>156030209</td>\n",
       "      <td>Houghton Mifflin Harcourt</td>\n",
       "      <td>Yann Martel</td>\n",
       "      <td>547416113</td>\n",
       "      <td>12</td>\n",
       "    </tr>\n",
       "    <tr>\n",
       "      <th>3</th>\n",
       "      <td>first love</td>\n",
       "      <td>Ivan Turgenev-Constance Garnett</td>\n",
       "      <td>3.79</td>\n",
       "      <td>5551</td>\n",
       "      <td>974607894</td>\n",
       "      <td>Little, Brown</td>\n",
       "      <td>James Patterson and Emily Raymond</td>\n",
       "      <td>316207020</td>\n",
       "      <td>0</td>\n",
       "    </tr>\n",
       "    <tr>\n",
       "      <th>4</th>\n",
       "      <td>a prayer for owen meany</td>\n",
       "      <td>John Irving</td>\n",
       "      <td>4.23</td>\n",
       "      <td>1054</td>\n",
       "      <td>679642595</td>\n",
       "      <td>HarperCollins</td>\n",
       "      <td>John Irving</td>\n",
       "      <td>62204106</td>\n",
       "      <td>1</td>\n",
       "    </tr>\n",
       "  </tbody>\n",
       "</table>\n",
       "</div>"
      ],
      "text/plain": [
       "                     title                                       authors  \\\n",
       "0            the alchemist  Paulo Coelho-Alan R. Clarke-James Noel Smith   \n",
       "1            the alchemist      Paulo Coelho-Alan R. Clarke-Özdemir İnce   \n",
       "2               life of pi                                   Yann Martel   \n",
       "3               first love               Ivan Turgenev-Constance Garnett   \n",
       "4  a prayer for owen meany                                   John Irving   \n",
       "\n",
       "  average_rating  ratings_count primary_isbn10_x                  publisher  \\\n",
       "0           3.85            814         60887966              HarperCollins   \n",
       "1           3.85        1592632         61122416              HarperCollins   \n",
       "2            3.9           4242        156030209  Houghton Mifflin Harcourt   \n",
       "3           3.79           5551        974607894              Little, Brown   \n",
       "4           4.23           1054        679642595              HarperCollins   \n",
       "\n",
       "                              author primary_isbn10_y  weeks_on_list  \n",
       "0                       Paulo Coelho         62416219              6  \n",
       "1                       Paulo Coelho         62416219              6  \n",
       "2                        Yann Martel        547416113             12  \n",
       "3  James Patterson and Emily Raymond        316207020              0  \n",
       "4                        John Irving         62204106              1  "
      ]
     },
     "execution_count": 13,
     "metadata": {},
     "output_type": "execute_result"
    }
   ],
   "source": [
    "# Checking merge by title...isbn's could be different if the publishers are different\n",
    "new_goodreads_data_df['title'] = new_goodreads_data_df['title'].str.lower()\n",
    "new_nytbooks_data_df['title'] = new_nytbooks_data_df['title'].str.lower()\n",
    "mergedCheck = pd.merge(new_goodreads_data_df, new_nytbooks_data_df, on=['title'], how='inner')\n",
    "mergedCheck.head()"
   ]
  },
  {
   "cell_type": "markdown",
   "metadata": {},
   "source": [
    "# Load\n",
    "\n",
    "---"
   ]
  },
  {
   "cell_type": "markdown",
   "metadata": {},
   "source": [
    "### Connect to local \"books_db\" database, and check for tables"
   ]
  },
  {
   "cell_type": "code",
   "execution_count": 14,
   "metadata": {},
   "outputs": [],
   "source": [
    "#Connect to local database\n",
    "rds_connection_string = \"postgres:postgres@localhost:5432/books_db\"\n",
    "engine = create_engine(f'postgresql://{rds_connection_string}')"
   ]
  },
  {
   "cell_type": "code",
   "execution_count": 15,
   "metadata": {},
   "outputs": [
    {
     "data": {
      "text/plain": [
       "['good_reads', 'new_york_times']"
      ]
     },
     "execution_count": 15,
     "metadata": {},
     "output_type": "execute_result"
    }
   ],
   "source": [
    "#Check for tables\n",
    "engine.table_names()"
   ]
  },
  {
   "cell_type": "markdown",
   "metadata": {},
   "source": [
    "### Loading clean pandas dataframes to local sql database"
   ]
  },
  {
   "cell_type": "code",
   "execution_count": 16,
   "metadata": {},
   "outputs": [],
   "source": [
    "new_goodreads_data_df.to_sql(name='good_reads', con=engine, if_exists='append', index=False)"
   ]
  },
  {
   "cell_type": "code",
   "execution_count": 17,
   "metadata": {},
   "outputs": [],
   "source": [
    "new_nytbooks_data_df.to_sql(name='new_york_times', con=engine, if_exists='append', index=False)"
   ]
  },
  {
   "cell_type": "markdown",
   "metadata": {},
   "source": [
    "### Confirming the data was added to the two sql databases"
   ]
  },
  {
   "cell_type": "code",
   "execution_count": 18,
   "metadata": {},
   "outputs": [
    {
     "data": {
      "text/html": [
       "<div>\n",
       "<style scoped>\n",
       "    .dataframe tbody tr th:only-of-type {\n",
       "        vertical-align: middle;\n",
       "    }\n",
       "\n",
       "    .dataframe tbody tr th {\n",
       "        vertical-align: top;\n",
       "    }\n",
       "\n",
       "    .dataframe thead th {\n",
       "        text-align: right;\n",
       "    }\n",
       "</style>\n",
       "<table border=\"1\" class=\"dataframe\">\n",
       "  <thead>\n",
       "    <tr style=\"text-align: right;\">\n",
       "      <th></th>\n",
       "      <th>id</th>\n",
       "      <th>title</th>\n",
       "      <th>authors</th>\n",
       "      <th>average_rating</th>\n",
       "      <th>ratings_count</th>\n",
       "      <th>primary_isbn10</th>\n",
       "    </tr>\n",
       "  </thead>\n",
       "  <tbody>\n",
       "    <tr>\n",
       "      <th>0</th>\n",
       "      <td>1</td>\n",
       "      <td>harry potter and the half-blood prince (harry ...</td>\n",
       "      <td>J.K. Rowling-Mary GrandPré</td>\n",
       "      <td>4.56</td>\n",
       "      <td>1944099</td>\n",
       "      <td>439785960</td>\n",
       "    </tr>\n",
       "    <tr>\n",
       "      <th>1</th>\n",
       "      <td>2</td>\n",
       "      <td>harry potter and the order of the phoenix (har...</td>\n",
       "      <td>J.K. Rowling-Mary GrandPré</td>\n",
       "      <td>4.49</td>\n",
       "      <td>1996446</td>\n",
       "      <td>439358078</td>\n",
       "    </tr>\n",
       "    <tr>\n",
       "      <th>2</th>\n",
       "      <td>3</td>\n",
       "      <td>harry potter and the sorcerer's stone (harry p...</td>\n",
       "      <td>J.K. Rowling-Mary GrandPré</td>\n",
       "      <td>4.47</td>\n",
       "      <td>5629932</td>\n",
       "      <td>439554934</td>\n",
       "    </tr>\n",
       "    <tr>\n",
       "      <th>3</th>\n",
       "      <td>4</td>\n",
       "      <td>harry potter and the chamber of secrets (harry...</td>\n",
       "      <td>J.K. Rowling</td>\n",
       "      <td>4.41</td>\n",
       "      <td>6267</td>\n",
       "      <td>439554896</td>\n",
       "    </tr>\n",
       "    <tr>\n",
       "      <th>4</th>\n",
       "      <td>5</td>\n",
       "      <td>harry potter and the prisoner of azkaban (harr...</td>\n",
       "      <td>J.K. Rowling-Mary GrandPré</td>\n",
       "      <td>4.55</td>\n",
       "      <td>2149872</td>\n",
       "      <td>043965548X</td>\n",
       "    </tr>\n",
       "  </tbody>\n",
       "</table>\n",
       "</div>"
      ],
      "text/plain": [
       "   id                                              title  \\\n",
       "0   1  harry potter and the half-blood prince (harry ...   \n",
       "1   2  harry potter and the order of the phoenix (har...   \n",
       "2   3  harry potter and the sorcerer's stone (harry p...   \n",
       "3   4  harry potter and the chamber of secrets (harry...   \n",
       "4   5  harry potter and the prisoner of azkaban (harr...   \n",
       "\n",
       "                      authors  average_rating  ratings_count primary_isbn10  \n",
       "0  J.K. Rowling-Mary GrandPré            4.56        1944099      439785960  \n",
       "1  J.K. Rowling-Mary GrandPré            4.49        1996446      439358078  \n",
       "2  J.K. Rowling-Mary GrandPré            4.47        5629932      439554934  \n",
       "3                J.K. Rowling            4.41           6267      439554896  \n",
       "4  J.K. Rowling-Mary GrandPré            4.55        2149872     043965548X  "
      ]
     },
     "execution_count": 18,
     "metadata": {},
     "output_type": "execute_result"
    }
   ],
   "source": [
    "pd.read_sql_query('select * from good_reads', con=engine).head()"
   ]
  },
  {
   "cell_type": "code",
   "execution_count": 19,
   "metadata": {},
   "outputs": [
    {
     "data": {
      "text/html": [
       "<div>\n",
       "<style scoped>\n",
       "    .dataframe tbody tr th:only-of-type {\n",
       "        vertical-align: middle;\n",
       "    }\n",
       "\n",
       "    .dataframe tbody tr th {\n",
       "        vertical-align: top;\n",
       "    }\n",
       "\n",
       "    .dataframe thead th {\n",
       "        text-align: right;\n",
       "    }\n",
       "</style>\n",
       "<table border=\"1\" class=\"dataframe\">\n",
       "  <thead>\n",
       "    <tr style=\"text-align: right;\">\n",
       "      <th></th>\n",
       "      <th>id</th>\n",
       "      <th>publisher</th>\n",
       "      <th>title</th>\n",
       "      <th>author</th>\n",
       "      <th>primary_isbn10</th>\n",
       "      <th>weeks_on_list</th>\n",
       "    </tr>\n",
       "  </thead>\n",
       "  <tbody>\n",
       "    <tr>\n",
       "      <th>0</th>\n",
       "      <td>1</td>\n",
       "      <td>Sapphire Star Publishing</td>\n",
       "      <td>lost to you</td>\n",
       "      <td>A L Jackson</td>\n",
       "      <td>1938404505</td>\n",
       "      <td>0</td>\n",
       "    </tr>\n",
       "    <tr>\n",
       "      <th>1</th>\n",
       "      <td>2</td>\n",
       "      <td>Random House</td>\n",
       "      <td>conviction</td>\n",
       "      <td>Aaron Allston</td>\n",
       "      <td>345509102</td>\n",
       "      <td>1</td>\n",
       "    </tr>\n",
       "    <tr>\n",
       "      <th>2</th>\n",
       "      <td>3</td>\n",
       "      <td>Abbi Glines</td>\n",
       "      <td>forever too far</td>\n",
       "      <td>Abbi Glines</td>\n",
       "      <td>988301334</td>\n",
       "      <td>2</td>\n",
       "    </tr>\n",
       "    <tr>\n",
       "      <th>3</th>\n",
       "      <td>4</td>\n",
       "      <td>Atria</td>\n",
       "      <td>rush too far</td>\n",
       "      <td>Abbi Glines</td>\n",
       "      <td>1476775958</td>\n",
       "      <td>1</td>\n",
       "    </tr>\n",
       "    <tr>\n",
       "      <th>4</th>\n",
       "      <td>5</td>\n",
       "      <td>Atria</td>\n",
       "      <td>simple perfection</td>\n",
       "      <td>Abbi Glines</td>\n",
       "      <td>1476756538</td>\n",
       "      <td>1</td>\n",
       "    </tr>\n",
       "  </tbody>\n",
       "</table>\n",
       "</div>"
      ],
      "text/plain": [
       "   id                 publisher              title         author  \\\n",
       "0   1  Sapphire Star Publishing        lost to you    A L Jackson   \n",
       "1   2              Random House         conviction  Aaron Allston   \n",
       "2   3               Abbi Glines    forever too far    Abbi Glines   \n",
       "3   4                     Atria       rush too far    Abbi Glines   \n",
       "4   5                     Atria  simple perfection    Abbi Glines   \n",
       "\n",
       "  primary_isbn10  weeks_on_list  \n",
       "0     1938404505              0  \n",
       "1      345509102              1  \n",
       "2      988301334              2  \n",
       "3     1476775958              1  \n",
       "4     1476756538              1  "
      ]
     },
     "execution_count": 19,
     "metadata": {},
     "output_type": "execute_result"
    }
   ],
   "source": [
    "pd.read_sql_query('select * from new_york_times', con=engine).head()"
   ]
  },
  {
   "cell_type": "markdown",
   "metadata": {},
   "source": [
    "### One last query checking the Join through the 'title'"
   ]
  },
  {
   "cell_type": "code",
   "execution_count": 20,
   "metadata": {},
   "outputs": [
    {
     "data": {
      "text/html": [
       "<div>\n",
       "<style scoped>\n",
       "    .dataframe tbody tr th:only-of-type {\n",
       "        vertical-align: middle;\n",
       "    }\n",
       "\n",
       "    .dataframe tbody tr th {\n",
       "        vertical-align: top;\n",
       "    }\n",
       "\n",
       "    .dataframe thead th {\n",
       "        text-align: right;\n",
       "    }\n",
       "</style>\n",
       "<table border=\"1\" class=\"dataframe\">\n",
       "  <thead>\n",
       "    <tr style=\"text-align: right;\">\n",
       "      <th></th>\n",
       "      <th>title</th>\n",
       "      <th>author</th>\n",
       "      <th>weeks_on_list</th>\n",
       "      <th>average_rating</th>\n",
       "      <th>ratings_count</th>\n",
       "    </tr>\n",
       "  </thead>\n",
       "  <tbody>\n",
       "    <tr>\n",
       "      <th>0</th>\n",
       "      <td>the alchemist</td>\n",
       "      <td>Paulo Coelho</td>\n",
       "      <td>6</td>\n",
       "      <td>3.85</td>\n",
       "      <td>814</td>\n",
       "    </tr>\n",
       "    <tr>\n",
       "      <th>1</th>\n",
       "      <td>the alchemist</td>\n",
       "      <td>Paulo Coelho</td>\n",
       "      <td>6</td>\n",
       "      <td>3.85</td>\n",
       "      <td>1592632</td>\n",
       "    </tr>\n",
       "    <tr>\n",
       "      <th>2</th>\n",
       "      <td>life of pi</td>\n",
       "      <td>Yann Martel</td>\n",
       "      <td>12</td>\n",
       "      <td>3.90</td>\n",
       "      <td>4242</td>\n",
       "    </tr>\n",
       "    <tr>\n",
       "      <th>3</th>\n",
       "      <td>first love</td>\n",
       "      <td>James Patterson and Emily Raymond</td>\n",
       "      <td>0</td>\n",
       "      <td>3.79</td>\n",
       "      <td>5551</td>\n",
       "    </tr>\n",
       "    <tr>\n",
       "      <th>4</th>\n",
       "      <td>a prayer for owen meany</td>\n",
       "      <td>John Irving</td>\n",
       "      <td>1</td>\n",
       "      <td>4.23</td>\n",
       "      <td>1054</td>\n",
       "    </tr>\n",
       "  </tbody>\n",
       "</table>\n",
       "</div>"
      ],
      "text/plain": [
       "                     title                             author  weeks_on_list  \\\n",
       "0            the alchemist                       Paulo Coelho              6   \n",
       "1            the alchemist                       Paulo Coelho              6   \n",
       "2               life of pi                        Yann Martel             12   \n",
       "3               first love  James Patterson and Emily Raymond              0   \n",
       "4  a prayer for owen meany                        John Irving              1   \n",
       "\n",
       "   average_rating  ratings_count  \n",
       "0            3.85            814  \n",
       "1            3.85        1592632  \n",
       "2            3.90           4242  \n",
       "3            3.79           5551  \n",
       "4            4.23           1054  "
      ]
     },
     "execution_count": 20,
     "metadata": {},
     "output_type": "execute_result"
    }
   ],
   "source": [
    "query = \"\"\"SELECT nyt.title, nyt.author, nyt.weeks_on_list, gr.average_rating, gr.ratings_count\n",
    "                FROM new_york_times nyt, good_reads gr \n",
    "                WHERE nyt.title = gr.title;\"\"\"\n",
    "pd.read_sql_query(query, con=engine).head()"
   ]
  },
  {
   "cell_type": "markdown",
   "metadata": {},
   "source": [
    "# Everything Looks A - OK 👌"
   ]
  },
  {
   "cell_type": "code",
   "execution_count": null,
   "metadata": {},
   "outputs": [],
   "source": []
  }
 ],
 "metadata": {
  "kernelspec": {
   "display_name": "Python 3",
   "language": "python",
   "name": "python3"
  },
  "language_info": {
   "codemirror_mode": {
    "name": "ipython",
    "version": 3
   },
   "file_extension": ".py",
   "mimetype": "text/x-python",
   "name": "python",
   "nbconvert_exporter": "python",
   "pygments_lexer": "ipython3",
   "version": "3.7.3"
  }
 },
 "nbformat": 4,
 "nbformat_minor": 2
}
